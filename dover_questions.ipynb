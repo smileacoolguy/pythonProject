{
 "cells": [
  {
   "cell_type": "code",
   "execution_count": 19,
   "id": "62299596-e5d5-465e-9d52-556a6b344053",
   "metadata": {},
   "outputs": [
    {
     "name": "stdout",
     "output_type": "stream",
     "text": [
      "[4, 5, 1, 2, 3]\n"
     ]
    }
   ],
   "source": [
    "def test():\n",
    "    input=6\n",
    "    size = len(range(input))//2\n",
    "    list1=[]\n",
    "    list2=[]\n",
    "    result=[]\n",
    "    for k in range(1,input):\n",
    "        if k > size:\n",
    "            list1.append(k)\n",
    "        else:\n",
    "            list2.append(k)\n",
    "\n",
    "    for i in list1:\n",
    "        #print(i)\n",
    "        result.append(i)\n",
    "    for j in list2:\n",
    "        #print(j)\n",
    "        result.append(j)\n",
    "\n",
    "    print(result)\n",
    "#print(list1[::-1])\n",
    "test()"
   ]
  },
  {
   "cell_type": "code",
   "execution_count": 24,
   "id": "d6c1096b-c9b1-4b20-bf23-f0f9a8d02c99",
   "metadata": {},
   "outputs": [
    {
     "name": "stdout",
     "output_type": "stream",
     "text": [
      "sihT\n",
      "si\n",
      "gnitseT\n",
      " sihT si gnitseT\n"
     ]
    }
   ],
   "source": [
    "\"\"\" \n",
    "\"This is Testing\" --> string\n",
    "reverse in its\n",
    "place\n",
    "o / p: \"sihT si gnitseT\"\n",
    "\"\"\"\n",
    "\n",
    "res=\"\"\n",
    "input_string = \"This is Testing\"\n",
    "for str in input_string.split():\n",
    "    print(str[::-1])\n",
    "    res=res+\" \"+str[::-1]\n",
    "print(res)"
   ]
  },
  {
   "cell_type": "code",
   "execution_count": 10,
   "id": "51b894ff-a032-4b81-a540-dca1154d7853",
   "metadata": {},
   "outputs": [],
   "source": [
    "# apikey, #token #method "
   ]
  },
  {
   "cell_type": "code",
   "execution_count": null,
   "id": "0a21f51c-d7b1-4a27-b7ed-3a6105d8a86b",
   "metadata": {},
   "outputs": [],
   "source": [
    "request headers\n",
    "payload - requestbody .   \n",
    "\n",
    "#business in"
   ]
  },
  {
   "cell_type": "code",
   "execution_count": 28,
   "id": "75bd097d-efc0-4cd9-8282-7cf04c642000",
   "metadata": {},
   "outputs": [
    {
     "data": {
      "text/plain": [
       "[6, 7, 8, 9, 10, 1, 2, 3, 4, 5]"
      ]
     },
     "execution_count": 28,
     "metadata": {},
     "output_type": "execute_result"
    }
   ],
   "source": [
    "inp=11\n",
    "med=inp//2\n",
    "f = [f for f in range(1,inp)]\n",
    "f[med:]+f[:med]"
   ]
  },
  {
   "cell_type": "code",
   "execution_count": null,
   "id": "fc7581cb-fa48-4022-a18b-b0d8522d6c49",
   "metadata": {},
   "outputs": [],
   "source": []
  }
 ],
 "metadata": {
  "kernelspec": {
   "display_name": "Python 3 (ipykernel)",
   "language": "python",
   "name": "python3"
  },
  "language_info": {
   "codemirror_mode": {
    "name": "ipython",
    "version": 3
   },
   "file_extension": ".py",
   "mimetype": "text/x-python",
   "name": "python",
   "nbconvert_exporter": "python",
   "pygments_lexer": "ipython3",
   "version": "3.10.11"
  }
 },
 "nbformat": 4,
 "nbformat_minor": 5
}
