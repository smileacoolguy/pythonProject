{
 "cells": [
  {
   "cell_type": "code",
   "execution_count": 1,
   "id": "40ff62f1",
   "metadata": {},
   "outputs": [
    {
     "name": "stdout",
     "output_type": "stream",
     "text": [
      "#     #  \n",
      "   #     \n",
      "#     #  "
     ]
    }
   ],
   "source": [
    "l=range(1,4)\n",
    "for f in l:\n",
    "    if f%2!=0:\n",
    "        print(\"#\",end=\"  \")\n",
    "    else:\n",
    "        print(end=\"   \")\n",
    "print(\"\")\n",
    "for g in range(1,len(l)+1):\n",
    "    if g%2==0:\n",
    "        print(\"#\",end=\"  \")\n",
    "    else:\n",
    "        print(end=\"   \")\n",
    "print(\"\")\n",
    "for g in range(1,len(l)+1):\n",
    "    if g%2!=0:\n",
    "        print(\"#\",end=\"  \")\n",
    "    else:\n",
    "        print(end=\"   \")\n",
    "    "
   ]
  },
  {
   "cell_type": "code",
   "execution_count": 38,
   "id": "15df1101",
   "metadata": {},
   "outputs": [
    {
     "name": "stdout",
     "output_type": "stream",
     "text": [
      "**********\n",
      "*********\n",
      "********\n",
      "*******\n",
      "******\n",
      "*****\n",
      "****\n",
      "***\n",
      "**\n",
      "*\n",
      "*\n",
      "**\n",
      "***\n",
      "****\n",
      "*****\n",
      "******\n",
      "*******\n",
      "********\n",
      "*********\n",
      "**********\n",
      "*********\n",
      "********\n",
      "*******\n",
      "******\n",
      "*****\n",
      "****\n",
      "***\n",
      "**\n",
      "*\n",
      "*\n",
      "**\n",
      "***\n",
      "****\n",
      "*****\n",
      "******\n",
      "*******\n",
      "********\n",
      "*********\n"
     ]
    },
    {
     "data": {
      "text/plain": [
       "[None, None, None, None, None, None, None, None, None]"
      ]
     },
     "execution_count": 38,
     "metadata": {},
     "output_type": "execute_result"
    }
   ],
   "source": [
    "l=range(5)\n",
    "size=10\n",
    "list(map(lambda x :print(\"*\"*x),range(size,0,-1)))\n",
    "list(map(lambda x :print(\"*\"*x),range(1,size)))\n",
    "list(map(lambda x :print(\"*\"*x),range(size,0,-1)))\n",
    "list(map(lambda x :print(\"*\"*x),range(1,size)))\n"
   ]
  },
  {
   "cell_type": "code",
   "execution_count": 62,
   "id": "1aa850c7",
   "metadata": {},
   "outputs": [
    {
     "name": "stdout",
     "output_type": "stream",
     "text": [
      "*******************************************************\n",
      "***************** ******** ********* *******************************************************\n",
      "***************** ******** ********* \n",
      "*\n",
      "**\n",
      "***\n",
      "****\n",
      "*****\n",
      "******\n",
      "*******\n",
      "********\n",
      "*********\n",
      "***************\n",
      "**************\n",
      "*************\n",
      "************\n",
      "***********\n",
      "**********\n",
      "*********\n",
      "********\n",
      "*******\n",
      "******\n",
      "*****\n",
      "****\n",
      "***\n",
      "**\n",
      "*\n",
      "*\n",
      "**\n",
      "***\n",
      "****\n",
      "*****\n",
      "******\n",
      "*******\n",
      "********\n",
      "*********\n",
      "**********\n",
      "***********\n",
      "************\n",
      "*************\n",
      "**************\n",
      "***************\n",
      "**************\n",
      "*************\n",
      "************\n",
      "***********\n",
      "**********\n",
      "*********\n",
      "********\n",
      "*******\n",
      "******\n",
      "*****\n",
      "****\n",
      "***\n",
      "**\n",
      "*\n",
      "*\n",
      "**\n",
      "***\n",
      "****\n",
      "*****\n",
      "******\n",
      "*******\n",
      "********\n",
      "*********\n",
      "**********\n",
      "***********\n",
      "************\n",
      "*************\n",
      "**************\n"
     ]
    },
    {
     "data": {
      "text/plain": [
       "[None,\n",
       " None,\n",
       " None,\n",
       " None,\n",
       " None,\n",
       " None,\n",
       " None,\n",
       " None,\n",
       " None,\n",
       " None,\n",
       " None,\n",
       " None,\n",
       " None,\n",
       " None]"
      ]
     },
     "execution_count": 62,
     "metadata": {},
     "output_type": "execute_result"
    }
   ],
   "source": [
    "def diam(x):\n",
    "    size=x\n",
    "    for c,f in enumerate(range(x)):\n",
    "        if c==0 or c==x-1:\n",
    "            list(map(lambda x :print(\"*\"*x,end=''),range(size,0,-1)))\n",
    "            print('')\n",
    "            list(map(lambda x :print(\"*\"*x,end=''),range(0,size//2)))\n",
    "            list(map(lambda x :print(\"*\"*x,end=' '),range(size//2+2,size)))\n",
    "    print('')\n",
    "    list(map(lambda x :print(\"*\"*x),range(1,size)))\n",
    "diam(10)\n",
    "size=15\n",
    "list(map(lambda x :print(\"*\"*x),range(size,0,-1)))\n",
    "list(map(lambda x :print(\"*\"*x),range(1,size)))\n",
    "list(map(lambda x :print(\"*\"*x),range(size,0,-1)))\n",
    "list(map(lambda x :print(\"*\"*x),range(1,size)))"
   ]
  },
  {
   "cell_type": "code",
   "execution_count": 85,
   "id": "f393fc6c",
   "metadata": {},
   "outputs": [
    {
     "name": "stdout",
     "output_type": "stream",
     "text": [
      "********** * **********\n",
      "********* *** *********\n",
      "******** ***** ********\n",
      "******* ******* *******\n",
      "****** ********* ******\n",
      "***** *********** *****\n",
      "**** ************* ****\n",
      "*** *************** ***\n",
      "** ***************** **\n",
      "* ******************* *\n",
      "** ***************** **\n",
      "*** *************** ***\n",
      "**** ************* ****\n",
      "***** *********** *****\n",
      "****** ********* ******\n",
      "******* ******* *******\n",
      "******** ***** ********\n",
      "********* *** *********\n",
      "********** * **********\n",
      "\n",
      "           *           \n",
      "          ***          \n",
      "         *****         \n",
      "        *******        \n",
      "       *********       \n",
      "      ***********      \n",
      "     *************     \n",
      "    ***************    \n",
      "   *****************   \n",
      "  *******************  \n",
      "   *****************   \n",
      "    ***************    \n",
      "     *************     \n",
      "      ***********      \n",
      "       *********       \n",
      "        *******        \n",
      "         *****         \n",
      "          ***          \n",
      "           *           \n",
      "\n",
      "**********   **********\n",
      "*********     *********\n",
      "********       ********\n",
      "*******         *******\n",
      "******           ******\n",
      "*****             *****\n",
      "****               ****\n",
      "***                 ***\n",
      "**                   **\n",
      "*                     *\n",
      "**                   **\n",
      "***                 ***\n",
      "****               ****\n",
      "*****             *****\n",
      "******           ******\n",
      "*******         *******\n",
      "********       ********\n",
      "*********     *********\n",
      "**********   **********\n"
     ]
    }
   ],
   "source": [
    "h=10\n",
    "# for x in range(h):\n",
    "#     print(\" \" * (h - x), \"*\" * (2*x + 1))\n",
    "# for x in range(h - 2, -1, -1):\n",
    "#     print(\" \" * (h - x), \"*\" * (2*x + 1))\n",
    "\n",
    "\n",
    "for x in range(h):\n",
    "    print(\"*\" * (h - x), \"*\" * (2*x + 1),\"*\" * (h - x))\n",
    "for x in range(h - 2, -1, -1):\n",
    "    print(\"*\" * (h - x), \"*\" * (2*x + 1),\"*\" * (h - x))\n",
    "    \n",
    "print('')\n",
    "for x in range(h):\n",
    "    print(\" \" * (h - x), \"*\" * (2*x + 1),\" \" * (h - x))\n",
    "for x in range(h - 2, -1, -1):\n",
    "    print(\" \" * (h - x), \"*\" * (2*x + 1),\" \" * (h - x))\n",
    "print('')\n",
    "\n",
    "for x in range(h):\n",
    "    print(\"*\" * (h - x), \" \" * (2*x + 1),\"*\" * (h - x))\n",
    "for x in range(h - 2, -1, -1):\n",
    "    print(\"*\" * (h - x), \" \" * (2*x + 1),\"*\" * (h - x))"
   ]
  },
  {
   "cell_type": "code",
   "execution_count": 72,
   "id": "f54fb970",
   "metadata": {},
   "outputs": [
    {
     "name": "stdout",
     "output_type": "stream",
     "text": [
      "*********\n"
     ]
    }
   ],
   "source": [
    "print(\"*\"*(10-1))"
   ]
  },
  {
   "cell_type": "code",
   "execution_count": 111,
   "id": "07592f72",
   "metadata": {},
   "outputs": [
    {
     "name": "stdout",
     "output_type": "stream",
     "text": [
      "||||| * |||||\n",
      "|||| *** ||||\n",
      "||| ***** |||\n",
      "|| ******* ||\n",
      "| ********* |\n",
      "|| ******* ||\n",
      "||| ***** |||\n",
      "|||| *** ||||\n",
      "||||| * |||||\n"
     ]
    }
   ],
   "source": [
    "h=5\n",
    "for x in range(h):\n",
    "    print('|'*(h-x),'*'*(2*x+1), '|'*(h-x))\n",
    "for x in range(h-2,-1,-1):\n",
    "    print('|'*(h-x),'*'*(2*x+1), '|'*(h-x))"
   ]
  },
  {
   "cell_type": "code",
   "execution_count": 108,
   "id": "36ae3fdd",
   "metadata": {},
   "outputs": [
    {
     "name": "stdout",
     "output_type": "stream",
     "text": [
      "*****        \n",
      "****         \n",
      "***          \n",
      "**           \n",
      "*            \n",
      "           **\n",
      "          ***\n",
      "         ****\n",
      "        *****\n"
     ]
    }
   ],
   "source": [
    "h=5\n",
    "for s in range(h):\n",
    "    \n",
    "    print(\"*\"*(h-s),\" \"*(2*s+1),\" \"*(h-s))\n",
    "for s in range(h-2,-1,-1):\n",
    "    print(\" \" * (h-s), \" \"*(2*s+1),\"*\"*(h-s))"
   ]
  },
  {
   "cell_type": "code",
   "execution_count": 43,
   "id": "b66c72e0",
   "metadata": {},
   "outputs": [
    {
     "name": "stdout",
     "output_type": "stream",
     "text": [
      " \n",
      "   *\n",
      "     **\n",
      "       ***\n",
      "****\n",
      "***\n",
      "**\n",
      "*\n",
      "\n"
     ]
    }
   ],
   "source": [
    "nx=4\n",
    "for n in range(nx):\n",
    "    #print(2*n+1)\n",
    "    x=2*n+1\n",
    "    print(\" \"*x,end=\"\")\n",
    "    print(\"*\"*n)\n",
    "    if n==nx-1:\n",
    "        for n in range(nx,-1,-1):\n",
    "            print(\"*\"*n)\n",
    "\n",
    "\n"
   ]
  },
  {
   "cell_type": "code",
   "execution_count": 35,
   "id": "9f2c3024",
   "metadata": {},
   "outputs": [
    {
     "name": "stdout",
     "output_type": "stream",
     "text": [
      "*\n"
     ]
    }
   ],
   "source": [
    "print(\"*\")"
   ]
  },
  {
   "cell_type": "code",
   "execution_count": null,
   "id": "12392fbf",
   "metadata": {},
   "outputs": [],
   "source": []
  },
  {
   "cell_type": "code",
   "execution_count": null,
   "id": "870f637f",
   "metadata": {},
   "outputs": [],
   "source": []
  }
 ],
 "metadata": {
  "kernelspec": {
   "display_name": "Python 3 (ipykernel)",
   "language": "python",
   "name": "python3"
  },
  "language_info": {
   "codemirror_mode": {
    "name": "ipython",
    "version": 3
   },
   "file_extension": ".py",
   "mimetype": "text/x-python",
   "name": "python",
   "nbconvert_exporter": "python",
   "pygments_lexer": "ipython3",
   "version": "3.10.11"
  }
 },
 "nbformat": 4,
 "nbformat_minor": 5
}
